{
 "cells": [
  {
   "cell_type": "code",
   "execution_count": 2,
   "source": [
    "%matplotlib inline\r\n",
    "import pandas as pd\r\n",
    "import numpy as np\r\n",
    "import matplotlib.pyplot as plt\r\n",
    "from mpl_toolkits.axes_grid1 import make_axes_locatable\r\n",
    "import geopandas as gpd\r\n",
    "import fiona\r\n",
    "import os\r\n",
    "\r\n",
    "os.environ[\"PROJ_LIB\"] = r\"C:\\\\Users\\\\SQwan\\\\miniconda3\\\\Library\\\\share\"\r\n",
    "import pickle\r\n",
    "import googlemaps\r\n",
    "import networkx as nx\r\n",
    "import itertools\r\n",
    "import csv\r\n",
    "import glob\r\n",
    "from collections import Counter\r\n",
    "from datetime import datetime\r\n",
    "from pprint import pprint\r\n",
    "from mpl_toolkits.basemap import Basemap\r\n",
    "from python_tsp.exact import solve_tsp_dynamic_programming\r\n",
    "from python_tsp.distances import great_circle_distance_matrix\r\n",
    "from shapely.geometry import Point, shape, Polygon\r\n",
    "from shapely.ops import unary_union\r\n",
    "\r\n",
    "import shapely.speedups\r\n",
    "\r\n",
    "shapely.speedups.enable()\r\n",
    "\r\n",
    "if not os.path.exists(r\"Data\"):\r\n",
    "    os.makedirs(r\"Data\")\r\n",
    "\r\n",
    "if not os.path.exists(r\"Data\\temp\"):\r\n",
    "    os.makedirs(r\"Data\\temp\")"
   ],
   "outputs": [],
   "metadata": {}
  },
  {
   "cell_type": "markdown",
   "source": [
    "## Route stations"
   ],
   "metadata": {}
  },
  {
   "cell_type": "markdown",
   "source": [],
   "metadata": {}
  },
  {
   "cell_type": "code",
   "execution_count": 3,
   "source": [
    "blue_station = [Point(42.116034, -86.452483),\r\n",
    "                Point(42.115074, -86.465348),\r\n",
    "                Point(42.110256, -86.463736),\r\n",
    "                Point(42.110254, -86.457768),\r\n",
    "                Point(42.101634, -86.448961),\r\n",
    "                Point(42.101646, -86.441657),\r\n",
    "                Point(42.102544, -86.436052),\r\n",
    "                Point(42.088709, -86.437108),\r\n",
    "                Point(42.084822, -86.437156),\r\n",
    "                Point(42.080667, -86.434759),\r\n",
    "                Point(42.085583, -86.433805),\r\n",
    "                Point(42.085637, -86.424232),\r\n",
    "                Point(42.082548, -86.421979),\r\n",
    "                Point(42.082242, -86.418849),\r\n",
    "                Point(42.077808, -86.424668),\r\n",
    "                Point(42.102544, -86.436052),\r\n",
    "                Point(42.107206, -86.446024),\r\n",
    "                Point(42.109733, -86.447242),\r\n",
    "                Point(42.116034, -86.452483),\r\n",
    "                ]\r\n",
    "blue_station = [Point(p.y, p.x) for p in blue_station]\r\n",
    "\r\n",
    "red_station = [Point(42.101646,\t-86.441657),\r\n",
    "               Point(42.101634,\t-86.448961),\r\n",
    "               Point(42.116034,\t-86.452483),\r\n",
    "               Point(42.115074,\t-86.465348),\r\n",
    "               Point(42.111264,\t-86.481872),\r\n",
    "               Point(42.088810,\t-86.478394),\r\n",
    "               Point(42.084126,\t-86.486379),\r\n",
    "               Point(42.079074,\t-86.493490),\r\n",
    "               Point(42.033439,\t-86.513542),\r\n",
    "               Point(42.026502,\t-86.516012),\r\n",
    "               Point(42.086425,\t-86.440537),\r\n",
    "               Point(42.101646,\t-86.441657),\r\n",
    "               ]\r\n",
    "red_station = [Point(p.y, p.x) for p in red_station]\r\n",
    "\r\n",
    "yellow_station = [Point(42.118494913335645, -86.45082973186932),\r\n",
    "                  Point(42.13082775201815, -86.4538851865351),\r\n",
    "                  Point(42.13268958444188, -86.45128880811971),\r\n",
    "                  Point(42.124573800847095, -86.4460383743168),\r\n",
    "                  Point(42.121903066372475, -86.4390957589761),\r\n",
    "                  Point(42.116026992072754, -86.4296080933503),\r\n",
    "                  Point(42.11587877166418, -86.43641202669362),\r\n",
    "                  Point(42.112791181420455, -86.4407060644722),\r\n",
    "                  Point(42.10241413329736, -86.43602474092258),\r\n",
    "                  Point(42.10241413, -86.43602474),\r\n",
    "                  Point(42.11279118, -86.44070606),\r\n",
    "                  Point(42.11587877, -86.43641203),\r\n",
    "                  Point(42.11602699, -86.42960809),\r\n",
    "                  Point(42.12190307, -86.43909576),\r\n",
    "                  Point(42.1245738,\t-86.44603837),\r\n",
    "                  Point(42.13268958, -86.45128881),\r\n",
    "                  Point(42.13082775\t, -86.45388519),\r\n",
    "                  Point(42.11849491, -86.45082973),\r\n",
    "                  ]\r\n",
    "yellow_station = [Point(p.y, p.x) for p in yellow_station]"
   ],
   "outputs": [],
   "metadata": {}
  },
  {
   "cell_type": "code",
   "execution_count": 10,
   "source": [
    "brown_df = pd.read_csv(r\"Data\\new routes\\brown_inbound1.csv\", index_col=[\"id\"])\r\n",
    "brown_station = [Point(x, y) for x, y in zip(brown_df.xcoord, brown_df.ycoord)]\r\n",
    "\r\n",
    "yellow_revised_df = pd.read_csv(\r\n",
    "    r\"Data\\new routes\\yellow_revised_inbound1.csv\", index_col=[\"id\"]\r\n",
    ")\r\n",
    "yellow_revised_station = [\r\n",
    "    Point(x, y) for x, y in zip(yellow_revised_df.xcoord, yellow_revised_df.ycoord)\r\n",
    "]\r\n",
    "\r\n",
    "red_revised_df = pd.read_csv(\r\n",
    "    r\"Data\\new routes\\red_revised_inbound1.csv\", index_col=[\"id\"]\r\n",
    ")\r\n",
    "red_revised_station = [\r\n",
    "    Point(x, y) for x, y in zip(red_revised_df.xcoord, red_revised_df.ycoord)\r\n",
    "]"
   ],
   "outputs": [],
   "metadata": {}
  },
  {
   "cell_type": "code",
   "execution_count": 11,
   "source": [
    "def locate_point(point, geoseries):\r\n",
    "    \"\"\"\r\n",
    "    Checker function which determines if a coordinate is within \r\n",
    "    the geoseries and return the zone id where the point is \r\n",
    "    located\r\n",
    "    \"\"\"\r\n",
    "    idx_list = geoseries.index[geoseries.geometry.contains(point)].tolist()\r\n",
    "    return idx_list[0] if len(idx_list) >= 1 else np.nan"
   ],
   "outputs": [],
   "metadata": {}
  },
  {
   "cell_type": "code",
   "execution_count": 12,
   "source": [
    "gdf = gpd.read_file(r\"Data\\shapefile\\zone_id.shp\")"
   ],
   "outputs": [],
   "metadata": {}
  },
  {
   "cell_type": "code",
   "execution_count": 14,
   "source": [
    "blue_station_id = [gdf.loc[locate_point(p, gdf), \"zone_id\"] for p in blue_station]\r\n",
    "blue_station_id = [\r\n",
    "    v\r\n",
    "    for i, v in enumerate(blue_station_id)\r\n",
    "    if i < len(blue_station_id) - 1\r\n",
    "    if v != blue_station_id[i + 1]\r\n",
    "]\r\n",
    "blue_station_id += [gdf.loc[locate_point(blue_station[-1], gdf), \"zone_id\"]]\r\n",
    "\r\n",
    "red_station_id = [gdf.loc[locate_point(p, gdf), \"zone_id\"] for p in red_station]\r\n",
    "red_station_id = [\r\n",
    "    v\r\n",
    "    for i, v in enumerate(red_station_id)\r\n",
    "    if i < len(red_station_id) - 1\r\n",
    "    if v != red_station_id[i + 1]\r\n",
    "]\r\n",
    "red_station_id += [gdf.loc[locate_point(red_station[-1], gdf), \"zone_id\"]]\r\n",
    "\r\n",
    "yellow_station_id = [gdf.loc[locate_point(p, gdf), \"zone_id\"] for p in yellow_station]\r\n",
    "yellow_station_id = [\r\n",
    "    v\r\n",
    "    for i, v in enumerate(yellow_station_id)\r\n",
    "    if i < len(yellow_station_id) - 1\r\n",
    "    if v != yellow_station_id[i + 1]\r\n",
    "]\r\n",
    "yellow_station_id += [gdf.loc[locate_point(yellow_station[-1], gdf), \"zone_id\"]]\r\n",
    "\r\n",
    "brown_station_id = [gdf.loc[locate_point(p, gdf), \"zone_id\"] for p in brown_station]\r\n",
    "brown_station_id = [\r\n",
    "    v\r\n",
    "    for i, v in enumerate(brown_station_id)\r\n",
    "    if i < len(brown_station_id) - 1\r\n",
    "    if v != brown_station_id[i + 1]\r\n",
    "]\r\n",
    "brown_station_id += [gdf.loc[locate_point(brown_station[-1], gdf), \"zone_id\"]]\r\n",
    "\r\n",
    "yellow_revised_station_id = [\r\n",
    "    gdf.loc[locate_point(p, gdf), \"zone_id\"] for p in yellow_revised_station\r\n",
    "]\r\n",
    "yellow_revised_station_id = [\r\n",
    "    v\r\n",
    "    for i, v in enumerate(yellow_revised_station_id)\r\n",
    "    if i < len(yellow_revised_station_id) - 1\r\n",
    "    if v != yellow_revised_station_id[i + 1]\r\n",
    "]\r\n",
    "yellow_revised_station_id += [\r\n",
    "    gdf.loc[locate_point(yellow_revised_station[-1], gdf), \"zone_id\"]\r\n",
    "]\r\n",
    "\r\n",
    "red_revised_station_id = [\r\n",
    "    gdf.loc[locate_point(p, gdf), \"zone_id\"] for p in red_revised_station\r\n",
    "]\r\n",
    "red_revised_station_id = [\r\n",
    "    v\r\n",
    "    for i, v in enumerate(red_revised_station_id)\r\n",
    "    if i < len(red_revised_station_id) - 1\r\n",
    "    if v != red_revised_station_id[i + 1]\r\n",
    "]\r\n",
    "red_revised_station_id += [\r\n",
    "    gdf.loc[locate_point(red_revised_station[-1], gdf), \"zone_id\"]\r\n",
    "]\r\n"
   ],
   "outputs": [],
   "metadata": {}
  },
  {
   "cell_type": "code",
   "execution_count": 15,
   "source": [
    "red_revised_station_id"
   ],
   "outputs": [
    {
     "output_type": "execute_result",
     "data": {
      "text/plain": [
       "[17, 18, 13, 62, 64, 6, 50, 52, 50, 52, 29, 0, 40, 43]"
      ]
     },
     "metadata": {},
     "execution_count": 15
    }
   ],
   "metadata": {}
  },
  {
   "cell_type": "code",
   "execution_count": null,
   "source": [],
   "outputs": [],
   "metadata": {}
  }
 ],
 "metadata": {
  "orig_nbformat": 4,
  "language_info": {
   "name": "python",
   "version": "3.9.7",
   "mimetype": "text/x-python",
   "codemirror_mode": {
    "name": "ipython",
    "version": 3
   },
   "pygments_lexer": "ipython3",
   "nbconvert_exporter": "python",
   "file_extension": ".py"
  },
  "kernelspec": {
   "name": "python3",
   "display_name": "Python 3.9.7 64-bit ('base': conda)"
  },
  "interpreter": {
   "hash": "cc5614969db343f118b1c4a322ce786bd4cde3069c8fb2d63635d04785eb7a6f"
  }
 },
 "nbformat": 4,
 "nbformat_minor": 2
}