{
 "cells": [
  {
   "cell_type": "code",
   "execution_count": 1,
   "metadata": {},
   "outputs": [],
   "source": [
    "import gurobipy as gp\n",
    "from gurobipy import GRB\n",
    "import pandas as pd\n",
    "import numpy as np\n",
    "from pprint import pprint\n",
    "import random\n",
    "import pickle"
   ]
  },
  {
   "cell_type": "markdown",
   "metadata": {},
   "source": [
    "## Helper functions"
   ]
  },
  {
   "cell_type": "code",
   "execution_count": 2,
   "metadata": {},
   "outputs": [],
   "source": [
    "def generate_R_all(df, max_shp=6, shp_list=None):\n",
    "    \"\"\"\n",
    "    input: df -- contains columns of trip id, on_id and off_id\n",
    "           max_shp -- maximum number of shared paths for each trip\n",
    "           shp_list -- list of number of sharable paths for each rider\n",
    "    return: dictionary with {R_all: RiderSN, RiderEN, RShPath}\n",
    "    \"\"\"\n",
    "    temp = df.copy()\n",
    "    if shp_list is None:\n",
    "        temp['sh_path'] = [random.randint(1, max_shp+1)\n",
    "                           for _ in range(len(temp))]\n",
    "    elif not (isinstance(shp_list, list) and all(isinstance(x, int) for x in shp_list)):\n",
    "        raise TypeError(\"Invalid shp_list type!\")\n",
    "    elif len(shp_list) != len(df):\n",
    "        raise ValueError(\n",
    "            \"Lenght of shp_list must equal to the lengh of input dataframe!\")\n",
    "    else:\n",
    "        temp['sh_path'] = shp_list\n",
    "    return {i: [row.on_id, row.off_id, row.sh_path] for i, row in temp.iterrows()}"
   ]
  },
  {
   "cell_type": "code",
   "execution_count": 3,
   "metadata": {},
   "outputs": [],
   "source": [
    "def generate_D_all(num_d=6, fixed_route=None, od=None):\n",
    "    \"\"\"\n",
    "    input: df -- dataframe include zone IDs\n",
    "           num_d -- number of drivers\n",
    "           fixed_route -- if None, shuttles are on-demand, else it represents\n",
    "                          the number of itinerary loops for each driver\n",
    "                          (list datatype)\n",
    "           od -- list of od for each driver, i.e. od = [[o1, d1], [o2, d2],...]\n",
    "    return: dictionary with {D_all: DriverSN, DriverEN, DShPath, DDuration}\n",
    "    \"\"\"\n",
    "    d_sp = np.zeros((num_d,), int)\n",
    "\n",
    "    if od is None:\n",
    "        d_sn = random.sample([3, 150, 104, 17, 73, 159]*2, num_d)\n",
    "        d_en = random.sample([3, 150, 104, 17, 73, 159]*2, num_d)\n",
    "    else:\n",
    "        d_sn, d_en = [x[0] for x in od], [x[1] for x in od]\n",
    "\n",
    "    if fixed_route is not None:\n",
    "        d_d = fixed_route\n",
    "        return {i+1000: [item[0], item[1], item[2], item[3]] for i, item in enumerate(zip(d_sn, d_en, d_sp, d_d))}\n",
    "    else:\n",
    "        return {i+1000: [item[0], item[1], item[2]] for i, item in enumerate(zip(d_sn, d_en, d_sp))}"
   ]
  },
  {
   "cell_type": "code",
   "execution_count": 4,
   "metadata": {},
   "outputs": [],
   "source": [
    "def generate_Links_Cost(T1, Nodes):\n",
    "    \"\"\"\n",
    "    input: T1 -- set of time horizon\n",
    "           Nodes -- node set\n",
    "    return: list of tuples (t1, t2, n1, n2) with t1<=t2\n",
    "    \"\"\"\n",
    "\n",
    "    # make sure one can only travel to its neighbour zones\n",
    "    station = pickle.load(open(r\"Data\\temp\\Station.p\", \"rb\"))\n",
    "    link = [(t1, t2, n1, n2) for t1 in T1\n",
    "            for t2 in T1 if t1 <= t2\n",
    "            for n1 in Nodes\n",
    "            for n2 in station[n1][\"neighbours\"]]\n",
    "    cost = [t2-t1 for (t1, t2, _, _) in link]\n",
    "    return {l: c for l, c in zip(link, cost)}"
   ]
  },
  {
   "cell_type": "code",
   "execution_count": 5,
   "metadata": {},
   "outputs": [],
   "source": [
    "def generate_Nodes_d(D_all, Nodes):\n",
    "    \"\"\"\n",
    "    input: D_all -- driver set\n",
    "           Nodes -- node set\n",
    "    return: dictionary, feasible nodes for each driver\n",
    "    \"\"\"\n",
    "    # By default each driver can reach any node\n",
    "    return {i: Nodes for i in D_all}"
   ]
  },
  {
   "cell_type": "code",
   "execution_count": 6,
   "metadata": {},
   "outputs": [],
   "source": [
    "def generate_Nodes_r(R_all, Nodes):\n",
    "    \"\"\"\n",
    "    TO DO!\n",
    "    \"\"\"\n",
    "    return None"
   ]
  },
  {
   "cell_type": "code",
   "execution_count": 7,
   "metadata": {},
   "outputs": [],
   "source": [
    "def generate_Matches(R_all, D_all):\n",
    "    \"\"\"\n",
    "    input: R_all -- rider set\n",
    "           D_all -- driver set\n",
    "    return: list of (rider, driver) tuples\n",
    "    \"\"\"\n",
    "    return [(r, d) for r in R_all\n",
    "            for d in D_all]"
   ]
  },
  {
   "cell_type": "code",
   "execution_count": 8,
   "metadata": {},
   "outputs": [
    {
     "ename": "SyntaxError",
     "evalue": "unexpected EOF while parsing (<ipython-input-8-46614a257007>, line 2)",
     "output_type": "error",
     "traceback": [
      "\u001b[1;36m  File \u001b[1;32m\"<ipython-input-8-46614a257007>\"\u001b[1;36m, line \u001b[1;32m2\u001b[0m\n\u001b[1;33m    \u001b[0m\n\u001b[1;37m    ^\u001b[0m\n\u001b[1;31mSyntaxError\u001b[0m\u001b[1;31m:\u001b[0m unexpected EOF while parsing\n"
     ]
    }
   ],
   "source": [
    "def generate_Links_d(T1, Nodes_d):\n",
    "    "
   ]
  },
  {
   "cell_type": "markdown",
   "metadata": {},
   "source": [
    "## Global Parameters"
   ]
  },
  {
   "cell_type": "code",
   "execution_count": 1,
   "metadata": {},
   "outputs": [],
   "source": [
    "NUM_DRIVERS = 5\n",
    "FIXED_ROUTE = False\n",
    "NUM_LOOP = [2]*NUM_DRIVERS  # No need if FIXED_ROUTE is False"
   ]
  },
  {
   "cell_type": "markdown",
   "metadata": {},
   "source": [
    "## Set Initialization"
   ]
  },
  {
   "cell_type": "code",
   "execution_count": 10,
   "metadata": {},
   "outputs": [],
   "source": [
    "df_zones = pd.read_csv(r\"Data\\zone_id.csv\", index_col=[\"zone id\"])\n",
    "df_od = pd.read_csv(r\"Data\\pctrans_trip_od.csv\")\n",
    "df_count = pd.read_csv(r\"Data\\trip_count.csv\")\n",
    "df_distance = pd.read_csv(r\"Data\\census\\station_distance.csv\")\n",
    "num_zones = len(df_zones)\n",
    "\n",
    "# zone ID with non-zero inflow or outflow\n",
    "nonzero_trip_zone = df_count.loc[(df_count.on_count != 0) | (\n",
    "    df_count.off_count != 0)].index.values"
   ]
  },
  {
   "cell_type": "code",
   "execution_count": 11,
   "metadata": {},
   "outputs": [
    {
     "ename": "NameError",
     "evalue": "name 'generate_Links_d' is not defined",
     "output_type": "error",
     "traceback": [
      "\u001b[1;31m---------------------------------------------------------------------------\u001b[0m",
      "\u001b[1;31mNameError\u001b[0m                                 Traceback (most recent call last)",
      "\u001b[1;32m<ipython-input-11-e6a3d0bbd7f0>\u001b[0m in \u001b[0;36m<module>\u001b[1;34m\u001b[0m\n\u001b[0;32m     23\u001b[0m \u001b[0mMatches\u001b[0m \u001b[1;33m=\u001b[0m \u001b[0mgp\u001b[0m\u001b[1;33m.\u001b[0m\u001b[0mtuplelist\u001b[0m\u001b[1;33m(\u001b[0m\u001b[0mgenerate_Matches\u001b[0m\u001b[1;33m(\u001b[0m\u001b[0mR_all\u001b[0m\u001b[1;33m,\u001b[0m \u001b[0mD_all\u001b[0m\u001b[1;33m)\u001b[0m\u001b[1;33m)\u001b[0m\u001b[1;33m\u001b[0m\u001b[1;33m\u001b[0m\u001b[0m\n\u001b[0;32m     24\u001b[0m \u001b[1;31m# Link set for drivers\u001b[0m\u001b[1;33m\u001b[0m\u001b[1;33m\u001b[0m\u001b[1;33m\u001b[0m\u001b[0m\n\u001b[1;32m---> 25\u001b[1;33m \u001b[0mLink_d\u001b[0m \u001b[1;33m=\u001b[0m \u001b[0mgenerate_Links_d\u001b[0m\u001b[1;33m(\u001b[0m\u001b[1;33m)\u001b[0m\u001b[1;33m\u001b[0m\u001b[1;33m\u001b[0m\u001b[0m\n\u001b[0m",
      "\u001b[1;31mNameError\u001b[0m: name 'generate_Links_d' is not defined"
     ]
    }
   ],
   "source": [
    "# Node set\n",
    "Nodes = nonzero_trip_zone  # only consider non-zero trip zones\n",
    "# Time horizon\n",
    "T1 = range(1, 36)\n",
    "# Rider set\n",
    "R_all, RiderSN, RiderEN, RShPath = gp.multidict(\n",
    "    generate_R_all(df_od.iloc[0:300]))\n",
    "# Driver set\n",
    "if FIXED_ROUTE:\n",
    "    D_all, DriverSN, DriverEN, DShPath, DDuration = gp.multidict(\n",
    "        generate_D_all(fixed_route=NUM_LOOP))\n",
    "else:\n",
    "    D_all, DriverSN, DriverEN, DShPath = gp.multidict(generate_D_all())\n",
    "\n",
    "# Link set\n",
    "Links, Cost = gp.multidict(generate_Links_Cost(T1, Nodes))\n",
    "\n",
    "# Node set for drivers\n",
    "Nodes_d = generate_Nodes_d(D_all, Nodes)\n",
    "# Node set for riders\n",
    "Nodes_r = generate_Nodes_r(R_all, Nodes)  # TO DO!\n",
    "# Match set for rider-driver pair\n",
    "Matches = gp.tuplelist(generate_Matches(R_all, D_all))\n",
    "# Link set for drivers\n",
    "Link_d = generate_Links_d()"
   ]
  },
  {
   "cell_type": "code",
   "execution_count": 108,
   "metadata": {},
   "outputs": [
    {
     "data": {
      "text/plain": [
       "[(0, 1000),\n",
       " (0, 1001),\n",
       " (0, 1002),\n",
       " (0, 1003),\n",
       " (0, 1004),\n",
       " (0, 1005),\n",
       " (1, 1000),\n",
       " (1, 1001),\n",
       " (1, 1002),\n",
       " (1, 1003)]"
      ]
     },
     "execution_count": 108,
     "metadata": {},
     "output_type": "execute_result"
    }
   ],
   "source": [
    "Matches[:10]"
   ]
  },
  {
   "cell_type": "markdown",
   "metadata": {},
   "source": [
    "## Parameter Initialization"
   ]
  },
  {
   "cell_type": "code",
   "execution_count": 25,
   "metadata": {},
   "outputs": [],
   "source": [
    "# Dummy driver\n",
    "D_DUMMY = D_all[-1]\n",
    "# Vehicle capacity\n",
    "VEH_CAP = 10"
   ]
  },
  {
   "cell_type": "code",
   "execution_count": 33,
   "metadata": {},
   "outputs": [
    {
     "data": {
      "text/plain": [
       "array([    0,     1,     2, ..., 11032, 11033, 11034], dtype=int64)"
      ]
     },
     "execution_count": 33,
     "metadata": {},
     "output_type": "execute_result"
    }
   ],
   "source": [
    "df_od.index.values"
   ]
  }
 ],
 "metadata": {
  "kernelspec": {
   "display_name": "Python 3",
   "language": "python",
   "name": "python3"
  },
  "language_info": {
   "codemirror_mode": {
    "name": "ipython",
    "version": 3
   },
   "file_extension": ".py",
   "mimetype": "text/x-python",
   "name": "python",
   "nbconvert_exporter": "python",
   "pygments_lexer": "ipython3",
   "version": "3.9.7"
  }
 },
 "nbformat": 4,
 "nbformat_minor": 4
}
