{
 "cells": [
  {
   "cell_type": "markdown",
   "metadata": {},
   "source": [
    "# Packages"
   ]
  },
  {
   "cell_type": "code",
   "execution_count": 1,
   "metadata": {},
   "outputs": [],
   "source": [
    "import pandas as pd\n",
    "import numpy as np\n",
    "import pickle\n",
    "import networkx as nx\n",
    "import time\n",
    "import itertools\n",
    "import random\n",
    "import copy\n",
    "import sys\n",
    "import os\n",
    "import csv\n",
    "from scipy.spatial import distance\n",
    "import scipy.sparse as sp\n",
    "from scipy.spatial import distance\n",
    "import scipy.sparse as sp\n",
    "import gurobipy as gp\n",
    "from gurobipy import GRB\n",
    "from st_network2 import Many2Many\n",
    "from python_tsp.exact import solve_tsp_dynamic_programming\n",
    "from python_tsp.distances import great_circle_distance_matrix\n",
    "from trip_prediction import trip_prediction\n",
    "\n",
    "# import osmnx as ox\n",
    "# from joblib import Parallel, delayed, load, dump\n",
    "# from mpl_toolkits.basemap import Basemap"
   ]
  },
  {
   "cell_type": "markdown",
   "metadata": {},
   "source": [
    "# Information\n",
    "<code>tau</code>:= zone-to-zone travel time numpy array<br>\n",
    "<code>tau2</code>:= zone-to-zone travel time numpy array with diagonal elements equal to one<br>\n",
    "<code>ctr</code>:= a dictionary with key as zones and values be the set of neighbor zones for the key including the key itself<br>\n",
    "<code>fixed_route_D</code>:= Dictionary with key as fixed route bus driver ID, with with value as $(t, s)$ pair where $t$ is the time and $s$ is the node for each stop of scheduled bus route\n",
    "### <code>config</code> data structure:\n",
    "<code>beta</code>:= time flexibility budget<br>\n",
    "<code>S</code>:= Number of zones<br>\n",
    "<code>T</code>:= Number of time steps<br>\n",
    "<code>VEH_CAP</code>:= Vehicle capacity<br>\n",
    "<code>FIXED_ROUTE</code>:= True if use fixed bus route configuration<br>\n",
    "<code>REPEATED_TOUR</code>:= True if use repeated bus route configuration<br> \n",
    "<code>TIME_LIMIT</code>:= Time limit of solver<br> \n",
    "<code>MIP_GAP</code>:= The optimality gap"
   ]
  },
  {
   "cell_type": "markdown",
   "metadata": {},
   "source": [
    "### <code>Rider</code> and <code>Driver</code> Numpy array, every row has these columns:\n",
    "0: user index<br>\n",
    "1: IGNORE!<br>\n",
    "2: earliest departure time<br>\n",
    "3: latest arrival time<br>\n",
    "4: origin<br>\n",
    "5: destination<br>\n",
    "6 (Rider only): tranfer limit"
   ]
  },
  {
   "cell_type": "markdown",
   "metadata": {},
   "source": [
    "If <code>REPEATED_TOUR</code>: earliest departure time and latest arrival time should be only for the first single tour for the each driver, not for the entire time horizon."
   ]
  },
  {
   "cell_type": "code",
   "execution_count": 27,
   "metadata": {},
   "outputs": [],
   "source": [
    "config = dict()\n",
    "config[\"S\"] = 69\n",
    "config[\"T\"] = 185\n",
    "config[\"beta\"] = 10  # x DELTA_t (mins) time flexibility budget\n",
    "config[\"VEH_CAP\"] = 10\n",
    "config[\"FIXED_ROUTE\"] = False\n",
    "config[\"REPEATED_TOUR\"] = False\n",
    "config[\"TIME_LIMIT\"] = 500\n",
    "config[\"MIP_GAP\"] = 0.2\n",
    "DELTA_t = 1  # discrete time interval in minutes"
   ]
  },
  {
   "cell_type": "markdown",
   "metadata": {},
   "source": [
    "### Load neighbor nodes information"
   ]
  },
  {
   "cell_type": "code",
   "execution_count": 28,
   "metadata": {},
   "outputs": [
    {
     "data": {
      "text/plain": [
       "[5, 29, 40, 41, 42, 43, 53, 65, 0]"
      ]
     },
     "execution_count": 28,
     "metadata": {},
     "output_type": "execute_result"
    }
   ],
   "source": [
    "ctr_info = pickle.load(open(r\"Data\\temp\\Station.p\", \"rb\"))\n",
    "ctr = dict()\n",
    "zone_id = list(ctr_info.keys())\n",
    "for i in range(len(ctr_info)):\n",
    "    ctr_info[i][\"neighbours\"].append(zone_id[i])\n",
    "    ctr[i] = list(e for e in ctr_info[i][\"neighbours\"] if e < config[\"S\"])\n",
    "ctr[0]"
   ]
  },
  {
   "cell_type": "code",
   "execution_count": 46,
   "metadata": {},
   "outputs": [],
   "source": [
    "S = config[\"S\"]\n",
    "# graph with edge cost as shortest travel time\n",
    "G_t = pickle.load(open(r\"Data\\temp\\G_t.p\", \"rb\"))\n",
    "# graph with edge cost as shortest travel distance\n",
    "G_d = pickle.load(open(r\"Data\\temp\\G_d.p\", \"rb\"))\n",
    "\n",
    "tau = np.zeros((S, S))\n",
    "tau2 = np.zeros((S, S))\n",
    "# TO DO: convert travel time unit to the unit of many-2-many problem\n",
    "for _, _, d in G_t.edges(data=True):\n",
    "    d[\"weight\"] = np.rint(d[\"weight\"])\n",
    "\n",
    "\n",
    "for i in range(S):\n",
    "    for j in range(S):\n",
    "        if i == j:\n",
    "            tau[i, j] = 0\n",
    "            tau2[i, j] = 1\n",
    "        else:\n",
    "            tau[i, j] = nx.shortest_path_length(\n",
    "                G_t, source=i, target=j, weight=\"weight\"\n",
    "            )\n",
    "            tau2[i, j] = tau[i, j]"
   ]
  },
  {
   "cell_type": "code",
   "execution_count": 48,
   "metadata": {},
   "outputs": [
    {
     "data": {
      "text/plain": [
       "1.0"
      ]
     },
     "execution_count": 48,
     "metadata": {},
     "output_type": "execute_result"
    }
   ],
   "source": [
    "# np.savetxt(r\"Data\\\\tau_int.csv\", tau, delimiter=\",\")\n",
    "min(tau[i, j] for i in range(S) for j in range(S) if i != j)"
   ]
  },
  {
   "cell_type": "markdown",
   "metadata": {},
   "source": [
    "### Mode choice model trip prediction"
   ]
  },
  {
   "cell_type": "code",
   "execution_count": 30,
   "metadata": {},
   "outputs": [],
   "source": [
    "# load mode choice input data\n",
    "mc_fileloc = r\"mc_input_data\\\\\"\n",
    "per_dist = pd.read_csv(mc_fileloc + \"dists_dat.csv\", sep=\",\")\n",
    "per_emp = pd.read_csv(mc_fileloc + \"dests_emp.csv\", sep=\",\")\n",
    "mdot_dat = pd.read_csv(mc_fileloc + \"mdot_trips_dc.csv\", sep=\",\")\n",
    "dests_geo = pd.read_csv(mc_fileloc + \"dests_geoid.csv\", sep=\",\")\n",
    "D = pd.read_csv(mc_fileloc + \"distance.csv\", sep=\",\", index_col=[0])\n",
    "# load ID converter\n",
    "id_converter = pickle.load(open(r\"Data\\id_converter.p\", \"rb\"))"
   ]
  },
  {
   "cell_type": "code",
   "execution_count": 31,
   "metadata": {},
   "outputs": [],
   "source": [
    "(\n",
    "    trips_dict_pk,\n",
    "    trips_dict_op,\n",
    "    transit_trips_dict_pk,\n",
    "    transit_trips_dict_op,\n",
    ") = trip_prediction(id_converter, per_dist, per_emp, mdot_dat, dests_geo, D)"
   ]
  },
  {
   "cell_type": "markdown",
   "metadata": {},
   "source": [
    "## Generate rider information"
   ]
  },
  {
   "cell_type": "markdown",
   "metadata": {},
   "source": [
    "### Rounding trip number with threshold 0.5"
   ]
  },
  {
   "cell_type": "code",
   "execution_count": 36,
   "metadata": {},
   "outputs": [],
   "source": [
    "trip_dict = {\n",
    "    k: int(np.round(v))\n",
    "    for k, v in transit_trips_dict_pk.items()\n",
    "    if int(np.round(v)) > 0\n",
    "    if k[0] != k[1]\n",
    "}\n",
    "\n",
    "Rider = pd.DataFrame(columns=[\"ID\", \"NAN\", \"ED\", \"LA\", \"O\", \"D\", \"SL\"])\n",
    "\n",
    "N_r = sum(trip_dict.values())\n",
    "\n",
    "O_r = list()\n",
    "D_r = list()\n",
    "for k, v in trip_dict.items():\n",
    "    O_r += [k[0] for _ in range(v)]\n",
    "    D_r += [k[1] for _ in range(v)]\n",
    "\n",
    "Rider[\"ID\"] = np.arange(N_r)\n",
    "Rider[\"O\"], Rider[\"D\"] = O_r, D_r\n",
    "# Rider[\"ED\"] = 0\n",
    "Rider[\"ED\"] = np.random.randint(0, config[\"T\"] // 5, N_r)\n",
    "# Rider[\"LA\"] = [config[\"T\"] - 1] * N_r\n",
    "Rider[\"LA\"] = np.random.randint(config[\"T\"] // 5 * 3, config[\"T\"] // 5 * 4, N_r)\n",
    "Rider[\"SL\"] = [10] * N_r\n",
    "\n",
    "Rider = Rider.fillna(999)\n",
    "Rider.to_csv(r\"many2many_data\\Rider.csv\", index=False)\n",
    "Rider = Rider.to_numpy(dtype=int, na_value=999)"
   ]
  },
  {
   "cell_type": "markdown",
   "metadata": {},
   "source": [
    "## Generate driver information"
   ]
  },
  {
   "cell_type": "markdown",
   "metadata": {},
   "source": [
    "### Load fixed routed infomation"
   ]
  },
  {
   "cell_type": "code",
   "execution_count": 37,
   "metadata": {},
   "outputs": [],
   "source": [
    "if config[\"FIXED_ROUTE\"]:\n",
    "    df_blue_1 = pd.read_csv(r\"mc_input_data\\blue_fr_1.csv\")\n",
    "    df_blue_2 = pd.read_csv(r\"mc_input_data\\blue_fr_2.csv\")\n",
    "    df_red_1 = pd.read_csv(r\"mc_input_data\\red_fr_1.csv\")\n",
    "    df_yellow_1 = pd.read_csv(r\"mc_input_data\\yellow_fr_1.csv\")\n",
    "\n",
    "    blue_1 = df_blue_1.to_numpy()\n",
    "    blue_2 = df_blue_2.to_numpy()\n",
    "    red_1 = df_red_1.to_numpy()\n",
    "    yellow_1 = df_yellow_1.to_numpy()\n",
    "    FR = {\n",
    "        0: blue_1,\n",
    "        1: blue_2,\n",
    "        2: red_1,\n",
    "        3: yellow_1,\n",
    "    }\n",
    "else:\n",
    "    FR = None"
   ]
  },
  {
   "cell_type": "code",
   "execution_count": 41,
   "metadata": {},
   "outputs": [],
   "source": [
    "if config[\"REPEATED_TOUR\"]:\n",
    "    Driver = pd.read_csv(r\"many2many_data\\Driver_rt.csv\")\n",
    "else:\n",
    "    Driver = pd.read_csv(r\"many2many_data\\Driver.csv\")\n",
    "\n",
    "Driver = Driver.to_numpy(dtype=int, na_value=999)"
   ]
  },
  {
   "cell_type": "code",
   "execution_count": null,
   "metadata": {},
   "outputs": [],
   "source": [
    "(X, U, Y, Route_D, mr, OBJ, R_match) = Many2Many(\n",
    "    Rider, Driver, tau, tau2, ctr, config, fixed_route_D=FR\n",
    ")"
   ]
  },
  {
   "cell_type": "markdown",
   "metadata": {},
   "source": [
    "## Store Results"
   ]
  },
  {
   "cell_type": "code",
   "execution_count": null,
   "metadata": {},
   "outputs": [],
   "source": [
    "result_loc = r\"test_data\\result\\3_22_2021\\\\\"\n",
    "if not os.path.exists(result_loc):\n",
    "    os.makedirs(result_loc)"
   ]
  },
  {
   "cell_type": "code",
   "execution_count": null,
   "metadata": {},
   "outputs": [],
   "source": [
    "Y = [\n",
    "    (\n",
    "        r,\n",
    "        d,\n",
    "        n1 // config[\"S\"],\n",
    "        n2 // config[\"S\"],\n",
    "        n1 % config[\"S\"],\n",
    "        n2 % config[\"S\"],\n",
    "        n1,\n",
    "        n2,\n",
    "    )\n",
    "    for (r, d, n1, n2) in Y\n",
    "]\n",
    "Y = sorted(Y, key=lambda x: x[2])\n",
    "\n",
    "U = sorted(list(U), key=lambda x: x[1])"
   ]
  },
  {
   "cell_type": "code",
   "execution_count": null,
   "metadata": {},
   "outputs": [],
   "source": [
    "for d in Route_D.keys():\n",
    "\n",
    "    route_filename = result_loc + r\"route_{}.csv\".format(d)\n",
    "    with open(route_filename, \"w+\", newline=\"\", encoding=\"utf-8\") as csvfile:\n",
    "        csv_out = csv.writer(csvfile)\n",
    "        csv_out.writerow([\"t1\", \"t2\", \"s1\", \"s2\", \"n1\", \"n2\"])\n",
    "        for row in Route_D[d]:\n",
    "            csv_out.writerow(row)"
   ]
  },
  {
   "cell_type": "code",
   "execution_count": null,
   "metadata": {},
   "outputs": [],
   "source": [
    "RDL_filename = result_loc + r\"Y_rdl.csv\"\n",
    "with open(RDL_filename, \"w+\", newline=\"\", encoding=\"utf-8\") as csvfile:\n",
    "    csv_out = csv.writer(csvfile)\n",
    "    csv_out.writerow([\"r\", \"d\", \"t1\", \"t2\", \"s1\", \"s2\", \"n1\", \"n2\"])\n",
    "    for row in Y:\n",
    "        csv_out.writerow(row)\n",
    "    csv_out.writerow(\n",
    "        [\"Matching Rate: {}\".format(mr),]\n",
    "    )"
   ]
  },
  {
   "cell_type": "code",
   "execution_count": null,
   "metadata": {},
   "outputs": [],
   "source": [
    "RD_filename = result_loc + r\"U_rd.csv\"\n",
    "with open(RD_filename, \"w+\", newline=\"\", encoding=\"utf-8\") as csvfile:\n",
    "    csv_out = csv.writer(csvfile)\n",
    "    csv_out.writerow([\"r\", \"d\"])\n",
    "    for row in U:\n",
    "        csv_out.writerow(row)\n",
    "    csv_out.writerow(\n",
    "        [\"Matching Rate: {}\".format(mr),]\n",
    "    )"
   ]
  },
  {
   "cell_type": "markdown",
   "metadata": {},
   "source": [
    "# Solve the Open TSP Problem\n",
    "After solving the aggregated many-to-many problem, solve the disaggregated sub-problem as an open TSP problem."
   ]
  },
  {
   "cell_type": "code",
   "execution_count": null,
   "metadata": {},
   "outputs": [],
   "source": [
    "sources = np.array([],)  # centroid coordinates of zones\n",
    "distance_matrix = great_circle_distance_matrix(sources)\n",
    "# set all elements of the first column of the distance matrix to zero\n",
    "distance_matrix[:, 0] = 0\n",
    "permutation, distance = solve_tsp_dynamic_programming(distance_matrix)"
   ]
  },
  {
   "cell_type": "markdown",
   "metadata": {},
   "source": [
    "# Post Processing"
   ]
  },
  {
   "cell_type": "markdown",
   "metadata": {},
   "source": [
    "<code>(X, U, Y, Route_D, mr, OBJ, R_match) = Many2Many(Rider, Driver, tau, tau2, ctr, config, fixed_route_D=FR)</code><br>\n",
    "<code>X</code>: 1 if driver $d$ goes to link $(t_1, t_2, s_1, s_2)$, and 0 otherwise<br>\n",
    "<code>U</code>: 1 if rider $r$ matches with driver $d$, and 0 otherwise<br>\n",
    "<code>Y</code>: 1 if rider $r$ rides with driver $d$ on link $(t_1, t_2, s_1, s_2)$, and 0 otherwise<br>\n",
    "<code>Route_D</code>: dict for each driver $d$, route link set $(t_1, t_2, s_1, s_2, n_1, n_2)$<br>\n",
    "<code>mr</code>: matching rate<br>\n",
    "<code>OBJ</code>: objective value<br>\n",
    "<code>R_match</code>: matched riders"
   ]
  },
  {
   "cell_type": "code",
   "execution_count": null,
   "metadata": {},
   "outputs": [],
   "source": [
    "S = config[\"S\"]\n",
    "T = config[\"T\"]\n",
    "Tmin = np.min(np.r_[Rider[:, 2], Driver[:, 2]])\n",
    "Tmax = np.max(np.r_[Rider[:, 3], Driver[:, 3]])\n",
    "\n",
    "# graph with edge cost as shortest travel distance\n",
    "G_d = pickle.load(open(r\"test_data\\G_d.p\", \"rb\"))\n",
    "\n",
    "# Time expanded network\n",
    "TN_t = nx.DiGraph()  # network with travel time info\n",
    "TN_d = nx.DiGraph()  # network with travel distance info\n",
    "\n",
    "# add route links into the network\n",
    "for d in Route_D:\n",
    "    for (_, _, _, _, n1, n2) in Route_D[d]:\n",
    "        # set weight as travel time\n",
    "        TN_t.add_edge(n1, n2, weight=n2 // S - n1 // S)\n",
    "        TN_d.add_edge(\n",
    "            n1,\n",
    "            n2,\n",
    "            weight=nx.shortest_path_length(\n",
    "                G_d, source=n1 // S, target=n2 // S, weight=\"weight\"\n",
    "            ),\n",
    "        )"
   ]
  },
  {
   "cell_type": "code",
   "execution_count": 9,
   "metadata": {},
   "outputs": [],
   "source": [
    "S = 10\n",
    "T = 30"
   ]
  },
  {
   "cell_type": "code",
   "execution_count": 10,
   "metadata": {},
   "outputs": [],
   "source": [
    "# add waiting links into the network\n",
    "for t in range(T):\n",
    "    for s in range(S):\n",
    "        # set weight as waiting time\n",
    "        TN_t.add_edge(t * S + s, (t + 1) * S + s, weight=1.0)\n",
    "        TN_d.add_edge(t * S + s, (t + 1) * S + s, weight=0.0)\n",
    "\n",
    "od_travel_time = dict()\n",
    "od_travel_dist = dict()\n",
    "for i in range(S):\n",
    "    od_travel_time[i] = dict()\n",
    "    od_travel_dist[i] = dict()\n",
    "    for j in range(S):\n",
    "        od_travel_time[i][j] = -999\n",
    "        od_travel_dist[i][j] = -999"
   ]
  },
  {
   "cell_type": "code",
   "execution_count": 12,
   "metadata": {},
   "outputs": [],
   "source": [
    "n_lst = list(TN_t.nodes)\n",
    "sp_t = {k: v for (k, v) in nx.shortest_path_length(TN_t, weight=\"weight\")}\n",
    "sp_d = {k: v for (k, v) in nx.shortest_path_length(TN_d, weight=\"weight\")}\n",
    "\n",
    "# update travel time influnced by bus routes\n",
    "for o in sp_t:\n",
    "    for d in sp_t[o]:\n",
    "        if od_travel_time[o % S][d % S] == -999:\n",
    "            od_travel_time[o % S][d % S] = sp_t[o][d]\n",
    "        elif od_travel_time[o % S][d % S] > sp_t[o][d]:\n",
    "            od_travel_time[o % S][d % S] = sp_t[o][d]\n",
    "\n",
    "# update travel distance influnced by bus routes\n",
    "for o in sp_d:\n",
    "    for d in sp_d[o]:\n",
    "        if od_travel_dist[o % S][d % S] == -999:\n",
    "            od_travel_dist[o % S][d % S] = sp_d[o][d]\n",
    "        elif od_travel_dist[o % S][d % S] > sp_d[o][d]:\n",
    "            od_travel_dist[o % S][d % S] = sp_d[o][d]"
   ]
  }
 ],
 "metadata": {
  "kernelspec": {
   "display_name": "Python 3",
   "language": "python",
   "name": "python3"
  },
  "language_info": {
   "codemirror_mode": {
    "name": "ipython",
    "version": 3
   },
   "file_extension": ".py",
   "mimetype": "text/x-python",
   "name": "python",
   "nbconvert_exporter": "python",
   "pygments_lexer": "ipython3",
   "version": "3.8.8"
  }
 },
 "nbformat": 4,
 "nbformat_minor": 4
}
