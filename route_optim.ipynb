{
 "cells": [
  {
   "cell_type": "markdown",
   "metadata": {},
   "source": [
    "# Packages"
   ]
  },
  {
   "cell_type": "code",
   "execution_count": 2,
   "metadata": {},
   "outputs": [],
   "source": [
    "import pandas as pd\n",
    "import numpy as np\n",
    "import pickle\n",
    "import networkx as nx\n",
    "import time\n",
    "import itertools\n",
    "import random\n",
    "import copy\n",
    "import sys\n",
    "from scipy.spatial import distance\n",
    "import scipy.sparse as sp\n",
    "import osmnx as ox\n",
    "from mpl_toolkits.basemap import Basemap\n",
    "from scipy.spatial import distance\n",
    "import scipy.sparse as sp\n",
    "import gurobipy as gp\n",
    "from gurobipy import GRB\n",
    "from joblib import Parallel, delayed, load, dump\n",
    "from st_network import One2Many"
   ]
  },
  {
   "cell_type": "markdown",
   "metadata": {},
   "source": [
    "# Information\n",
    "<code>tau</code> := zone-to-zone travel time numpy array<br>\n",
    "<code>tau2</code> := zone-to-zone travel time numpy array with diagonal elements equal to one<br>\n",
    "<code>ctr</code> := a dictionary with key as zones and values be the set of neighbor zones for the key including the key itself<br>\n",
    "<code>S</code> := Number of zones<br>\n",
    "<code>T</code> := Number of time steps<br>\n",
    "<code>beta</code> := time flexibility budget<br>"
   ]
  },
  {
   "cell_type": "markdown",
   "metadata": {},
   "source": [
    "### Rider and Driver Numpy array, for every row we have these columns:\n",
    "0: user index<br>\n",
    "1: IGNORE!<br>\n",
    "2: earliest departure time<br>\n",
    "3: latest arrival time<br>\n",
    "4: origin<br>\n",
    "5: destination<br>"
   ]
  },
  {
   "cell_type": "code",
   "execution_count": null,
   "metadata": {},
   "outputs": [],
   "source": [
    "config = dict{}\n",
    "config[\"S\"] = # To do\n",
    "config[\"T\"] = # To do\n",
    "config[\"beta\"] = # To do"
   ]
  },
  {
   "cell_type": "code",
   "execution_count": 17,
   "metadata": {},
   "outputs": [
    {
     "data": {
      "text/plain": [
       "{'lat_lon': [42.07597029404763, -86.38040952841658],\n",
       " 'utm': array([19615.67474128, 20197.26260538]),\n",
       " 'neighbours': [1, 9, 68, 69, 70, 137, 0]}"
      ]
     },
     "execution_count": 17,
     "metadata": {},
     "output_type": "execute_result"
    }
   ],
   "source": [
    "# load neighbor nodes information\n",
    "ctr = pickle.load(open(r\"Data\\temp\\Station.p\", \"rb\"))\n",
    "zone_id = list(ctr.keys())\n",
    "for i in range(len(station)):\n",
    "    ctr[i]['neighbours'].append(zone_id[i])\n",
    "ctr[0]"
   ]
  },
  {
   "cell_type": "code",
   "execution_count": null,
   "metadata": {},
   "outputs": [],
   "source": [
    "# graph with edge cost as shortest travel time\n",
    "G_t = pickle.load(open(r\"Data\\temp\\G_t.p\", \"rb\"))\n",
    "# graph with edge cost as shortest travel distance\n",
    "G_d = pickle.load(open(r\"Data\\temp\\G_d.p\", \"rb\"))\n",
    "\n",
    "tau = np.zeros((S, S))\n",
    "tau2 = np.zeros((S, S))\n",
    "\n",
    "for i in range(S):\n",
    "    for j in range(S):\n",
    "        if i == j:\n",
    "            tau[i, j] = 0\n",
    "            tau2[i, j] = 1\n",
    "        else:\n",
    "            tau[i, j] = nx.shortest_path(\n",
    "                G_t, source=i, target=j, weight='weight')\n",
    "            tau2[i, j] = tau[i, j]"
   ]
  }
 ],
 "metadata": {
  "kernelspec": {
   "display_name": "Python 3",
   "language": "python",
   "name": "python3"
  },
  "language_info": {
   "codemirror_mode": {
    "name": "ipython",
    "version": 3
   },
   "file_extension": ".py",
   "mimetype": "text/x-python",
   "name": "python",
   "nbconvert_exporter": "python",
   "pygments_lexer": "ipython3",
   "version": "3.8.5"
  }
 },
 "nbformat": 4,
 "nbformat_minor": 4
}
