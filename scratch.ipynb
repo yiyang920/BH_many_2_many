{
 "cells": [
  {
   "cell_type": "code",
   "execution_count": 1,
   "metadata": {},
   "outputs": [],
   "source": [
    "import pandas as pd\n",
    "import numpy as np\n",
    "import os\n",
    "import pickle\n",
    "import random\n",
    "from math import ceil, floor\n",
    "import yaml\n",
    "\n",
    "# from mc_utilities import (\n",
    "#     mc_utilities_pk,\n",
    "#     mc_utilities_op,\n",
    "#     mc_probs_pk,\n",
    "#     mc_probs_op,\n",
    "#     dc_utility,\n",
    "# )\n",
    "from utils import post_processing\n",
    "from mpl_toolkits.basemap import Basemap\n",
    "import matplotlib.pyplot as plt\n",
    "import geopandas as gpd\n",
    "from trip_prediction import trip_prediction\n",
    "from shapely.geometry import Point, shape, Polygon\n",
    "from shapely.ops import unary_union\n",
    "\n",
    "import shapely.speedups\n",
    "import networkx as nx\n",
    "\n",
    "shapely.speedups.disable()"
   ]
  },
  {
   "cell_type": "code",
   "execution_count": 2,
   "metadata": {},
   "outputs": [],
   "source": [
    "id_converter = pickle.load(open(r\"Data\\id_converter.p\", \"rb\"))"
   ]
  },
  {
   "cell_type": "code",
   "execution_count": 3,
   "metadata": {},
   "outputs": [],
   "source": [
    "# Load data\n",
    "mc_fileloc = r\"mc_input_data\\\\\"\n",
    "per_dist = pd.read_csv(mc_fileloc + \"dists_dat.csv\", sep=\",\")\n",
    "per_emp = pd.read_csv(mc_fileloc + \"dests_emp.csv\", sep=\",\")\n",
    "mdot_dat = pd.read_csv(mc_fileloc + \"mdot_trips_dc.csv\", sep=\",\")\n",
    "dests_geo = pd.read_csv(mc_fileloc + \"dests_geoid.csv\", sep=\",\")\n",
    "D = pd.read_csv(mc_fileloc + \"distance.csv\", sep=\",\", index_col=[0])"
   ]
  },
  {
   "cell_type": "code",
   "execution_count": 4,
   "metadata": {},
   "outputs": [],
   "source": [
    "(trips_mat_pk,\n",
    " trips_mat_op,\n",
    " transit_trips_mat_pk,\n",
    " transit_trips_mat_op,\n",
    " ) = trip_prediction(id_converter, per_dist, per_emp, mdot_dat, dests_geo, D)"
   ]
  },
  {
   "cell_type": "code",
   "execution_count": 5,
   "metadata": {},
   "outputs": [],
   "source": [
    "transit_trip_pk = np.zeros((len(id_converter), len(id_converter)))\n",
    "transit_trip_op = np.zeros((len(id_converter), len(id_converter)))"
   ]
  },
  {
   "cell_type": "code",
   "execution_count": 6,
   "metadata": {},
   "outputs": [],
   "source": [
    "for i in range(len(id_converter)):\n",
    "    for j in range(len(id_converter)):\n",
    "        transit_trip_pk[i, j] = transit_trips_mat_pk[i, j]\n",
    "        transit_trip_op[i, j] = transit_trips_mat_op[i, j]"
   ]
  },
  {
   "cell_type": "code",
   "execution_count": 7,
   "metadata": {},
   "outputs": [],
   "source": [
    "trips_df = pd.DataFrame(\n",
    "    index=np.arange(len(id_converter)),\n",
    "    columns=[\n",
    "        \"trips_pk_in\",\n",
    "        \"trips_pk_out\",\n",
    "        \"trips_op_in\",\n",
    "        \"trips_op_out\",\n",
    "        \"transit_trips_pk_in\",\n",
    "        \"transit_trips_pk_out\",\n",
    "        \"transit_trips_op_in\",\n",
    "        \"transit_trips_op_out\",\n",
    "    ],\n",
    ")"
   ]
  },
  {
   "cell_type": "code",
   "execution_count": 10,
   "metadata": {},
   "outputs": [],
   "source": [
    "for i in range(len(id_converter)):\n",
    "    trips_df.loc[i, \"trips_pk_in\"] = sum(\n",
    "        v for (k, v) in trips_mat_pk.items() if k[1] == i\n",
    "    )\n",
    "    trips_df.loc[i, \"trips_op_in\"] = sum(\n",
    "        v for (k, v) in trips_mat_op.items() if k[1] == i\n",
    "    )\n",
    "    trips_df.loc[i, \"trips_pk_out\"] = sum(\n",
    "        v for (k, v) in trips_mat_pk.items() if k[0] == i\n",
    "    )\n",
    "    trips_df.loc[i, \"trips_op_out\"] = sum(\n",
    "        v for (k, v) in trips_mat_op.items() if k[0] == i\n",
    "    )\n",
    "\n",
    "    trips_df.loc[i, \"transit_trips_pk_in\"] = sum(\n",
    "        v for (k, v) in transit_trips_mat_pk.items() if k[1] == i\n",
    "    )\n",
    "    trips_df.loc[i, \"transit_trips_op_in\"] = sum(\n",
    "        v for (k, v) in transit_trips_mat_op.items() if k[1] == i\n",
    "    )\n",
    "    trips_df.loc[i, \"transit_trips_pk_out\"] = sum(\n",
    "        v for (k, v) in transit_trips_mat_pk.items() if k[0] == i\n",
    "    )\n",
    "    trips_df.loc[i, \"transit_trips_op_out\"] = sum(\n",
    "        v for (k, v) in transit_trips_mat_op.items() if k[0] == i\n",
    "    )\n",
    "trips_df.index.name = \"zone_id\""
   ]
  },
  {
   "cell_type": "code",
   "execution_count": 14,
   "metadata": {},
   "outputs": [
    {
     "data": {
      "text/plain": [
       "{0.0,\n",
       " 0.3831369912819637,\n",
       " 0.4614279271508503,\n",
       " 0.6418705631593008,\n",
       " 0.7160177464317707,\n",
       " 0.7328465816742162,\n",
       " 0.7741568915439245,\n",
       " 0.8375515576236882,\n",
       " 1.1167066356908182,\n",
       " 1.411146600774518,\n",
       " 1.5456124558473257,\n",
       " 1.5932561374779493,\n",
       " 1.693108417415378,\n",
       " 1.7762407852071123,\n",
       " 1.8070622299898822,\n",
       " 1.9575894462158188,\n",
       " 2.0609139231616282,\n",
       " 2.1935552433302554,\n",
       " 2.359156233309453,\n",
       " 2.9602360707734743}"
      ]
     },
     "execution_count": 14,
     "metadata": {},
     "output_type": "execute_result"
    }
   ],
   "source": [
    "temp1 = {v for (k, v) in transit_trips_mat_pk.items() if k[0] == k[1]}\n",
    "temp1"
   ]
  },
  {
   "cell_type": "code",
   "execution_count": 21,
   "metadata": {},
   "outputs": [
    {
     "data": {
      "text/plain": [
       "{(1, 39): 2.5992919824304,\n",
       " (17, 20): 0.3300326754287719,\n",
       " (18, 19): 2.2671027255391216,\n",
       " (18, 20): 2.262132286413095,\n",
       " (19, 18): 1.1972989220772345,\n",
       " (19, 20): 1.5425383349077744,\n",
       " (19, 22): 1.888642336318531,\n",
       " (20, 17): 0.690821243662591,\n",
       " (20, 18): 1.0181449052834577,\n",
       " (20, 19): 2.7747574006205378,\n",
       " (20, 21): 6.2320528431762545,\n",
       " (20, 22): 0.8117763353788515,\n",
       " (21, 20): 2.289964994112635,\n",
       " (22, 19): 4.680410844151183,\n",
       " (22, 20): 4.604290747274385,\n",
       " (29, 52): 3.041862057982769,\n",
       " (32, 65): 1.3956270130349264,\n",
       " (39, 1): 3.846683580970676,\n",
       " (52, 29): 0.8187686274889837,\n",
       " (52, 53): 1.9646588939380671,\n",
       " (53, 52): 2.945565982325784,\n",
       " (65, 32): 0.9443549443898308}"
      ]
     },
     "execution_count": 21,
     "metadata": {},
     "output_type": "execute_result"
    }
   ],
   "source": [
    "temp2 = {k: v for (k, v) in transit_trips_mat_pk.items()\n",
    "         if v > 0\n",
    "         if (k[1], k[0]) in transit_trips_mat_pk\n",
    "         if transit_trips_mat_pk[k[1], k[0]] > 0\n",
    "         if k[1] != k[0]}\n",
    "temp2"
   ]
  },
  {
   "cell_type": "code",
   "execution_count": 34,
   "metadata": {},
   "outputs": [
    {
     "name": "stdout",
     "output_type": "stream",
     "text": [
      "909.5352504637999 66.60317340614317 20 96.53421614274197 18\n"
     ]
    }
   ],
   "source": [
    "print(sum(transit_trips_mat_pk.values()),\n",
    "      max(sum(transit_trips_mat_pk[i, j]\n",
    "              for j in range(69)) for i in range(69)),\n",
    "      np.argmax([sum(transit_trips_mat_pk[i, j]\n",
    "                     for j in range(69)) for i in range(69)]),\n",
    "      max(sum(transit_trips_mat_pk[i, j]\n",
    "              for i in range(69)) for j in range(69)),\n",
    "      np.argmax([sum(transit_trips_mat_pk[i, j]\n",
    "                     for i in range(69)) for j in range(69)]),\n",
    "      )"
   ]
  },
  {
   "cell_type": "code",
   "execution_count": 40,
   "metadata": {},
   "outputs": [
    {
     "name": "stdout",
     "output_type": "stream",
     "text": [
      "original: 909.5352504637999, ceiling: 1000, rounding: 915, random: 906\n"
     ]
    }
   ],
   "source": [
    "print(\"original: {}, ceiling: {}, rounding: {}, random: {}\".format(sum(transit_trips_mat_pk.values()),\n",
    "                                                                   sum([\n",
    "                                                                       ceil(v) for v in transit_trips_mat_pk.values()]),\n",
    "                                                                   sum([\n",
    "                                                                       round(v) for v in transit_trips_mat_pk.values()]),\n",
    "                                                                   sum([ceil(v) if random.randint(0, 1) else floor(\n",
    "                                                                       v) for v in transit_trips_mat_pk.values()])\n",
    "                                                                   )\n",
    "      )"
   ]
  },
  {
   "cell_type": "markdown",
   "metadata": {},
   "source": [
    "# QGIS Code for virtual layer (flow map arrow)"
   ]
  },
  {
   "cell_type": "raw",
   "metadata": {},
   "source": [
    "SELECT zone_id_o, zone_id_d, trips, <\\code>\n",
    "       make_line(a.geometry, b.geometry)\n",
    "FROM edges_transit_pk\n",
    "JOIN centroid_and_inflow a ON edges_transit_pk.zone_id_o = a.zone_id\n",
    "JOIN centroid_and_inflow b ON edges_transit_pk.zone_id_d = b.zone_id"
   ]
  },
  {
   "cell_type": "code",
   "execution_count": 5,
   "metadata": {},
   "outputs": [
    {
     "data": {
      "image/png": "[encoded data removed]",
      "text/plain": [
       "<Figure size 432x288 with 1 Axes>"
      ]
     },
     "metadata": {
      "needs_background": "light"
     },
     "output_type": "display_data"
    }
   ],
   "source": [
    "import numpy as np\n",
    "import matplotlib.pyplot as plt\n",
    "from matplotlib.ticker import PercentFormatter\n",
    "\n",
    "data = [1000, 1000, 5000, 3000, 4000, 16000, 2000]\n",
    "\n",
    "plt.hist(data, weights=np.ones(len(data)) / len(data))\n",
    "\n",
    "plt.gca().yaxis.set_major_formatter(PercentFormatter(1))\n",
    "plt.gca().set_ylim(bottom=0,top=1.00)\n",
    "plt.show()\n"
   ]
  },
  {
   "cell_type": "markdown",
   "metadata": {},
   "source": [
    "# Plot routes"
   ]
  },
  {
   "cell_type": "code",
   "execution_count": 2,
   "metadata": {},
   "outputs": [],
   "source": [
    "with open(\"config.yaml\", \"r+\") as fopen:\n",
    "    config = yaml.load(fopen, Loader=yaml.FullLoader)\n",
    "gpd_shp_file = gpd.read_file(config[\"shapefile_zone_id\"])\n",
    "gpd_shp_file_summary = gpd_shp_file.geometry.bounds\n",
    "lolon, uplon, lolat, uplat = (\n",
    "    gpd_shp_file_summary.minx.min(),\n",
    "    gpd_shp_file_summary.maxx.max(),\n",
    "    gpd_shp_file_summary.miny.min(),\n",
    "    gpd_shp_file_summary.maxy.max(),\n",
    ")\n",
    "\n",
    "bm = Basemap(\n",
    "    llcrnrlon=lolon,\n",
    "    llcrnrlat=lolat,\n",
    "    urcrnrlon=uplon,\n",
    "    urcrnrlat=uplat,\n",
    "    resolution=\"i\",\n",
    "    projection=\"tmerc\",\n",
    "        lat_0=sum([uplat, lolat]) / 2.0,\n",
    "        lon_0=sum([uplon, lolon]) / 2.0,\n",
    ")\n",
    "\n",
    "Route_D = pickle.load(open(r\"Data\\temp\\Route_D.p\", \"rb\"))\n",
    "Route_D_disagg = post_processing(Route_D, config)"
   ]
  },
  {
   "cell_type": "code",
   "execution_count": 3,
   "metadata": {},
   "outputs": [],
   "source": [
    "lons_dict = {idx: c.x for idx, c in zip(gpd_shp_file.zone_id, gpd_shp_file.centroid)}\n",
    "lats_dict = {idx: c.y for idx, c in zip(gpd_shp_file.zone_id, gpd_shp_file.centroid)}\n",
    "\n",
    "duration_d = dict()\n",
    "for d, route in Route_D_disagg.items():\n",
    "    os = route[0][2]\n",
    "    for idx, stamp in enumerate(route):\n",
    "        if idx > 0 and stamp[2] == os:\n",
    "            duration_d[d] = stamp[1]\n",
    "            break\n",
    "s_list = {\n",
    "    d: [\n",
    "        (lons_dict[n1], lats_dict[n1])\n",
    "        for (_, t2, n1, _, _, _) in route\n",
    "        if t2 <= duration_d[d]\n",
    "    ]\n",
    "    for d, route in Route_D_disagg.items()\n",
    "}\n",
    "\n",
    "for d, s in s_list.items():\n",
    "    lons, lats = [c[0] for c in s], [c[1] for c in s]\n",
    "    x, y = bm(lons, lats)\n",
    "    fig = plt.figure(figsize=(30, 25))\n",
    "    ax = fig.gca()\n",
    "    bm.readshapefile(\n",
    "        config[\"shapefile_zone_id\"][:-4],\n",
    "        \"zone_id\",\n",
    "        ax=ax,\n",
    "        linewidth=1,\n",
    "    )\n",
    "    bm.plot(\n",
    "        x,\n",
    "        y,\n",
    "        color=\"black\",\n",
    "        ax=ax,\n",
    "        linewidth=3.0,\n",
    "    )\n",
    "    fig.savefig(\n",
    "        config[\"figure_pth\"] + r\"route_{}.png\".format(d), bbox_inches=\"tight\", dpi=100\n",
    "    )\n",
    "    plt.close()"
   ]
  },
  {
   "cell_type": "code",
   "execution_count": 3,
   "metadata": {},
   "outputs": [
    {
     "data": {
      "image/png": "[encoded data removed]",
      "image/svg+xml": [
       "<?xml version=\"1.0\" encoding=\"utf-8\" standalone=\"no\"?>\r\n",
       "<!DOCTYPE svg PUBLIC \"-//W3C//DTD SVG 1.1//EN\"\r\n",
       "  \"http://www.w3.org/Graphics/SVG/1.1/DTD/svg11.dtd\">\r\n",
       "<svg height=\"302.4pt\" version=\"1.1\" viewBox=\"0 0 446.4 302.4\" width=\"446.4pt\" xmlns=\"http://www.w3.org/2000/svg\" xmlns:xlink=\"http://www.w3.org/1999/xlink\">\r\n",
       " <metadata>\r\n",
       "  <rdf:RDF xmlns:cc=\"http://creativecommons.org/ns#\" xmlns:dc=\"http://purl.org/dc/elements/1.1/\" xmlns:rdf=\"http://www.w3.org/1999/02/22-rdf-syntax-ns#\">\r\n",
       "   <cc:Work>\r\n",
       "    <dc:type rdf:resource=\"http://purl.org/dc/dcmitype/StillImage\"/>\r\n",
       "    <dc:date>2021-05-27T16:28:36.468019</dc:date>\r\n",
       "    <dc:format>image/svg+xml</dc:format>\r\n",
       "    <dc:creator>\r\n",
       "     <cc:Agent>\r\n",
       "      <dc:title>Matplotlib v3.4.2, https://matplotlib.org/</dc:title>\r\n",
       "     </cc:Agent>\r\n",
       "    </dc:creator>\r\n",
       "   </cc:Work>\r\n",
       "  </rdf:RDF>\r\n",
       " </metadata>\r\n",
       " <defs>\r\n",
       "  <style type=\"text/css\">*{stroke-linecap:butt;stroke-linejoin:round;}</style>\r\n",
       " </defs>\r\n",
       " <g id=\"figure_1\">\r\n",
       "  <g id=\"patch_1\">\r\n",
       "   <path d=\"M 0 302.4 \r\n",
       "L 446.4 302.4 \r\n",
       "L 446.4 0 \r\n",
       "L 0 0 \r\n",
       "z\r\n",
       "\" style=\"fill:#ffffff;\"/>\r\n",
       "  </g>\r\n",
       "  <g id=\"axes_1\">\r\n",
       "   <g id=\"LineCollection_1\">\r\n",
       "    <path clip-path=\"url(#p5faf043546)\" d=\"M 152.996008 197.987845 \r\n",
       "L 293.331972 104.430498 \r\n",
       "\" style=\"fill:none;stroke:#000000;\"/>\r\n",
       "    <path clip-path=\"url(#p5faf043546)\" d=\"M 152.996008 197.987845 \r\n",
       "L 26.836364 282.109091 \r\n",
       "\" style=\"fill:none;stroke:#000000;\"/>\r\n",
       "    <path clip-path=\"url(#p5faf043546)\" d=\"M 293.331972 104.430498 \r\n",
       "L 419.563636 20.290909 \r\n",
       "\" style=\"fill:none;stroke:#000000;\"/>\r\n",
       "   </g>\r\n",
       "   <g id=\"PathCollection_1\">\r\n",
       "    <defs>\r\n",
       "     <path d=\"M 0 8.660254 \r\n",
       "C 2.296726 8.660254 4.499694 7.747755 6.123724 6.123724 \r\n",
       "C 7.747755 4.499694 8.660254 2.296726 8.660254 0 \r\n",
       "C 8.660254 -2.296726 7.747755 -4.499694 6.123724 -6.123724 \r\n",
       "C 4.499694 -7.747755 2.296726 -8.660254 0 -8.660254 \r\n",
       "C -2.296726 -8.660254 -4.499694 -7.747755 -6.123724 -6.123724 \r\n",
       "C -7.747755 -4.499694 -8.660254 -2.296726 -8.660254 0 \r\n",
       "C -8.660254 2.296726 -7.747755 4.499694 -6.123724 6.123724 \r\n",
       "C -4.499694 7.747755 -2.296726 8.660254 0 8.660254 \r\n",
       "z\r\n",
       "\" id=\"m125e50fd5e\" style=\"stroke:#1f78b4;\"/>\r\n",
       "    </defs>\r\n",
       "    <g clip-path=\"url(#p5faf043546)\">\r\n",
       "     <use style=\"fill:#1f78b4;stroke:#1f78b4;\" x=\"152.996008\" xlink:href=\"#m125e50fd5e\" y=\"197.987845\"/>\r\n",
       "     <use style=\"fill:#1f78b4;stroke:#1f78b4;\" x=\"293.331972\" xlink:href=\"#m125e50fd5e\" y=\"104.430498\"/>\r\n",
       "     <use style=\"fill:#1f78b4;stroke:#1f78b4;\" x=\"26.836364\" xlink:href=\"#m125e50fd5e\" y=\"282.109091\"/>\r\n",
       "     <use style=\"fill:#1f78b4;stroke:#1f78b4;\" x=\"419.563636\" xlink:href=\"#m125e50fd5e\" y=\"20.290909\"/>\r\n",
       "    </g>\r\n",
       "   </g>\r\n",
       "  </g>\r\n",
       " </g>\r\n",
       " <defs>\r\n",
       "  <clipPath id=\"p5faf043546\">\r\n",
       "   <rect height=\"288\" width=\"432\" x=\"7.2\" y=\"7.2\"/>\r\n",
       "  </clipPath>\r\n",
       " </defs>\r\n",
       "</svg>\r\n"
      ],
      "text/plain": [
       "<Figure size 432x288 with 1 Axes>"
      ]
     },
     "metadata": {},
     "output_type": "display_data"
    }
   ],
   "source": [
    "G=nx.Graph()\n",
    "G.add_edges_from([('A','B'),('A','C'),('B','D'),])\n",
    "nx.draw(G)\n",
    "plt.show()"
   ]
  },
  {
   "cell_type": "code",
   "execution_count": 4,
   "metadata": {},
   "outputs": [
    {
     "data": {
      "image/png": "[encoded data removed]",
      "image/svg+xml": [
       "<?xml version=\"1.0\" encoding=\"utf-8\" standalone=\"no\"?>\r\n",
       "<!DOCTYPE svg PUBLIC \"-//W3C//DTD SVG 1.1//EN\"\r\n",
       "  \"http://www.w3.org/Graphics/SVG/1.1/DTD/svg11.dtd\">\r\n",
       "<svg height=\"302.4pt\" version=\"1.1\" viewBox=\"0 0 446.4 302.4\" width=\"446.4pt\" xmlns=\"http://www.w3.org/2000/svg\" xmlns:xlink=\"http://www.w3.org/1999/xlink\">\r\n",
       " <metadata>\r\n",
       "  <rdf:RDF xmlns:cc=\"http://creativecommons.org/ns#\" xmlns:dc=\"http://purl.org/dc/elements/1.1/\" xmlns:rdf=\"http://www.w3.org/1999/02/22-rdf-syntax-ns#\">\r\n",
       "   <cc:Work>\r\n",
       "    <dc:type rdf:resource=\"http://purl.org/dc/dcmitype/StillImage\"/>\r\n",
       "    <dc:date>2021-05-27T16:28:37.961815</dc:date>\r\n",
       "    <dc:format>image/svg+xml</dc:format>\r\n",
       "    <dc:creator>\r\n",
       "     <cc:Agent>\r\n",
       "      <dc:title>Matplotlib v3.4.2, https://matplotlib.org/</dc:title>\r\n",
       "     </cc:Agent>\r\n",
       "    </dc:creator>\r\n",
       "   </cc:Work>\r\n",
       "  </rdf:RDF>\r\n",
       " </metadata>\r\n",
       " <defs>\r\n",
       "  <style type=\"text/css\">*{stroke-linecap:butt;stroke-linejoin:round;}</style>\r\n",
       " </defs>\r\n",
       " <g id=\"figure_1\">\r\n",
       "  <g id=\"patch_1\">\r\n",
       "   <path d=\"M 0 302.4 \r\n",
       "L 446.4 302.4 \r\n",
       "L 446.4 0 \r\n",
       "L 0 0 \r\n",
       "z\r\n",
       "\" style=\"fill:#ffffff;\"/>\r\n",
       "  </g>\r\n",
       "  <g id=\"axes_1\">\r\n",
       "   <g id=\"LineCollection_1\">\r\n",
       "    <path clip-path=\"url(#p232614873f)\" d=\"M 37.176985 20.290909 \r\n",
       "L 26.836364 100.906583 \r\n",
       "\" style=\"fill:none;stroke:#000000;\"/>\r\n",
       "   </g>\r\n",
       "   <g id=\"PathCollection_1\">\r\n",
       "    <defs>\r\n",
       "     <path d=\"M 0 8.660254 \r\n",
       "C 2.296726 8.660254 4.499694 7.747755 6.123724 6.123724 \r\n",
       "C 7.747755 4.499694 8.660254 2.296726 8.660254 0 \r\n",
       "C 8.660254 -2.296726 7.747755 -4.499694 6.123724 -6.123724 \r\n",
       "C 4.499694 -7.747755 2.296726 -8.660254 0 -8.660254 \r\n",
       "C -2.296726 -8.660254 -4.499694 -7.747755 -6.123724 -6.123724 \r\n",
       "C -7.747755 -4.499694 -8.660254 -2.296726 -8.660254 0 \r\n",
       "C -8.660254 2.296726 -7.747755 4.499694 -6.123724 6.123724 \r\n",
       "C -4.499694 7.747755 -2.296726 8.660254 0 8.660254 \r\n",
       "z\r\n",
       "\" id=\"m9b7e1a2bcf\" style=\"stroke:#1f78b4;\"/>\r\n",
       "    </defs>\r\n",
       "    <g clip-path=\"url(#p232614873f)\">\r\n",
       "     <use style=\"fill:#1f78b4;stroke:#1f78b4;\" x=\"37.176985\" xlink:href=\"#m9b7e1a2bcf\" y=\"20.290909\"/>\r\n",
       "     <use style=\"fill:#1f78b4;stroke:#1f78b4;\" x=\"26.836364\" xlink:href=\"#m9b7e1a2bcf\" y=\"100.906583\"/>\r\n",
       "     <use style=\"fill:#1f78b4;stroke:#1f78b4;\" x=\"419.563636\" xlink:href=\"#m9b7e1a2bcf\" y=\"282.109091\"/>\r\n",
       "    </g>\r\n",
       "   </g>\r\n",
       "  </g>\r\n",
       " </g>\r\n",
       " <defs>\r\n",
       "  <clipPath id=\"p232614873f\">\r\n",
       "   <rect height=\"288\" width=\"432\" x=\"7.2\" y=\"7.2\"/>\r\n",
       "  </clipPath>\r\n",
       " </defs>\r\n",
       "</svg>\r\n"
      ],
      "text/plain": [
       "<Figure size 432x288 with 1 Axes>"
      ]
     },
     "metadata": {},
     "output_type": "display_data"
    }
   ],
   "source": [
    "G.remove_node('B')\n",
    "nx.draw(G)\n",
    "plt.show()"
   ]
  },
  {
   "cell_type": "code",
   "execution_count": null,
   "metadata": {},
   "outputs": [],
   "source": []
  }
 ],
 "metadata": {
  "kernelspec": {
   "display_name": "Python 3",
   "language": "python",
   "name": "python3"
  },
  "language_info": {
   "codemirror_mode": {
    "name": "ipython",
    "version": 3
   },
   "file_extension": ".py",
   "mimetype": "text/x-python",
   "name": "python",
   "nbconvert_exporter": "python",
   "pygments_lexer": "ipython3",
   "version": "3.9.5"
  }
 },
 "nbformat": 4,
 "nbformat_minor": 4
}
