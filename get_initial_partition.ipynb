{
 "cells": [
  {
   "cell_type": "code",
   "execution_count": 2,
   "id": "7014975f-b8ff-4488-b1f5-74962a6e43c3",
   "metadata": {},
   "outputs": [],
   "source": [
    "import pandas as pd\n",
    "import numpy as np\n",
    "import pickle\n",
    "import operator\n",
    "import networkx as nx\n",
    "import os\n",
    "import csv\n",
    "import yaml\n",
    "from st_network2 import Many2Many\n",
    "from trip_prediction import trip_prediction\n",
    "\n",
    "from graph_coarsening import graph_coarsening\n",
    "from utils import *"
   ]
  },
  {
   "cell_type": "code",
   "execution_count": 3,
   "id": "a4fc890d-2bf3-4e85-8d8d-d317ddefe181",
   "metadata": {},
   "outputs": [],
   "source": [
    "with open(\"config_m2m_gc.yaml\", \"r+\") as fopen:\n",
    "    config = yaml.load(fopen, Loader=yaml.FullLoader)\n",
    "config[\"FIXED_ROUTE\"] = True"
   ]
  },
  {
   "cell_type": "code",
   "execution_count": 4,
   "id": "a89e01e9-52a0-427a-96b4-1dccef6c75b0",
   "metadata": {},
   "outputs": [],
   "source": [
    "Route_fr_disagg = load_FR_disagg(config)\n",
    "Route_fr_disagg = None\n",
    "# Load mode choice input data\n",
    "(\n",
    "    per_time,\n",
    "    per_dist,\n",
    "    per_emp,\n",
    "    mdot_dat,\n",
    "    dests_geo,\n",
    "    D,\n",
    ") = load_mc_input(config)\n",
    "\n",
    "# load ID converter between GEOID and zone_id\n",
    "id_converter = pickle.load(open(config[\"id_converter\"], \"rb\"))"
   ]
  },
  {
   "cell_type": "code",
   "execution_count": 5,
   "id": "5b0425aa-702a-4152-b5c7-5cc205ee03da",
   "metadata": {},
   "outputs": [],
   "source": [
    "(\n",
    "    trips_dict_pk,\n",
    "    trips_dict_op,\n",
    "    transit_trips_dict_pk,\n",
    "    transit_trips_dict_op,\n",
    ") = trip_prediction(\n",
    "    id_converter, per_dist, per_emp, mdot_dat, dests_geo, D, per_time=per_time\n",
    ")"
   ]
  },
  {
   "cell_type": "code",
   "execution_count": 6,
   "id": "c3a45dfc-b701-4bd6-9dc3-3318ee90f1e4",
   "metadata": {},
   "outputs": [
    {
     "name": "stdout",
     "output_type": "stream",
     "text": [
      "Academic license - for non-commercial use only - expires 2021-06-19\n",
      "Using license file C:\\Users\\SQwan\\gurobi.lic\n",
      "Parameter TimeLimit unchanged\n",
      "   Value: inf  Min: 0.0  Max: inf  Default: inf\n",
      "Changed value of parameter MIPGap to 0.2\n",
      "   Prev: 0.0001  Min: 0.0  Max: inf  Default: 0.0001\n",
      "Gurobi Optimizer version 9.1.2 build v9.1.2rc0 (win64)\n",
      "Thread count: 8 physical cores, 8 logical processors, using up to 8 threads\n",
      "Optimize a model with 8784 rows, 5240 columns and 26160 nonzeros\n",
      "Model fingerprint: 0xe9f9c078\n",
      "Variable types: 0 continuous, 5240 integer (5240 binary)\n",
      "Coefficient statistics:\n",
      "  Matrix range     [1e+00, 2e+00]\n",
      "  Objective range  [1e+00, 2e+00]\n",
      "  Bounds range     [1e+00, 1e+00]\n",
      "  RHS range        [1e+00, 4e+00]\n",
      "Found heuristic solution: objective 88.0000000\n",
      "Presolve removed 1760 rows and 880 columns\n",
      "Presolve time: 0.06s\n",
      "Presolved: 7024 rows, 4360 columns, 22640 nonzeros\n",
      "Variable types: 0 continuous, 4360 integer (4360 binary)\n",
      "\n",
      "Root relaxation: objective 2.774014e+02, 5423 iterations, 0.03 seconds\n",
      "\n",
      "    Nodes    |    Current Node    |     Objective Bounds      |     Work\n",
      " Expl Unexpl |  Obj  Depth IntInf | Incumbent    BestBd   Gap | It/Node Time\n",
      "\n",
      "     0     0  277.40136    0  152   88.00000  277.40136   215%     -    0s\n",
      "H    0     0                     200.6402162  277.40136  38.3%     -    0s\n",
      "H    0     0                     202.6402162  277.40136  36.9%     -    0s\n",
      "H    0     0                     204.6402394  277.40136  35.6%     -    0s\n",
      "     0     0  277.40136    0  184  204.64024  277.40136  35.6%     -    0s\n",
      "     0     0  270.09366    0 1138  204.64024  270.09366  32.0%     -    0s\n",
      "     0     0  269.40136    0 1170  204.64024  269.40136  31.6%     -    1s\n",
      "     0     0  269.40136    0 1170  204.64024  269.40136  31.6%     -    1s\n",
      "     0     0  227.07231    0  869  204.64024  227.07231  11.0%     -    2s\n",
      "\n",
      "Cutting planes:\n",
      "  Gomory: 13\n",
      "  Mod-K: 9\n",
      "  RLT: 475\n",
      "\n",
      "Explored 1 nodes (24863 simplex iterations) in 2.97 seconds\n",
      "Thread count was 8 (of 8 available processors)\n",
      "\n",
      "Solution count 5: 204.64 202.64 200.64 ... 88\n",
      "\n",
      "Optimal solution found (tolerance 2.00e-01)\n",
      "Best objective 2.046402394141e+02, best bound 2.270723128140e+02, gap 10.9617%\n"
     ]
    }
   ],
   "source": [
    "(\n",
    "    N_n,\n",
    "    L_l,\n",
    "    C_l,\n",
    "    K_k,\n",
    "    w_out,\n",
    "    w_in,\n",
    "    w_f,\n",
    ") = get_link_cost(trips_dict_pk, Route_fr_disagg, config)\n",
    "(_, _, P_N, P_L, _) = graph_coarsening(N_n, L_l, C_l, K_k, config)"
   ]
  },
  {
   "cell_type": "code",
   "execution_count": 7,
   "id": "e9de5f52-62df-4c88-8402-0c5def825192",
   "metadata": {},
   "outputs": [
    {
     "name": "stdout",
     "output_type": "stream",
     "text": [
      "38\n"
     ]
    }
   ],
   "source": [
    "# Record current agg2disagg of those bus-visited zones\n",
    "bus_zone = set(stop[2] for _, route in Route_fr_disagg.items() for stop in route)\n",
    "# Update agg_2_disagg_id and disagg_2_agg_id\n",
    "agg_2_disagg_id = dict()\n",
    "\n",
    "for idx, c in enumerate(P_N.keys()):\n",
    "    agg_2_disagg_id[idx] = P_N[c]\n",
    "# P_N excludes the zones with bus service, need to add those excluded zones\n",
    "# into agg_2_disagg_id\n",
    "for idx, node in enumerate(bus_zone):\n",
    "    new_part_id = len(P_N) + idx\n",
    "    agg_2_disagg_id[new_part_id] = [node]\n",
    "\n",
    "\n",
    "disagg_2_agg_id = {\n",
    "    n: partition for partition, nodes in agg_2_disagg_id.items() for n in nodes\n",
    "}\n",
    "\n",
    "# Update config dictionary: number of partitions of aggregated network\n",
    "config[\"S\"] = len(agg_2_disagg_id)\n",
    "print(config[\"S\"])"
   ]
  },
  {
   "cell_type": "code",
   "execution_count": 8,
   "id": "ba7e3a2b-ffc4-4871-94e5-0d2672d039f2",
   "metadata": {},
   "outputs": [],
   "source": [
    "# Load neighbor nodes information of disaggregated zones\n",
    "ctr_disagg = load_neighbor_disagg(config)\n",
    "# Update ctr, i.e. station neighbor info of aggregated network\n",
    "ctr = update_ctr_agg(ctr_disagg, disagg_2_agg_id)"
   ]
  },
  {
   "cell_type": "code",
   "execution_count": 16,
   "id": "ef27d52b-370b-4168-b1ea-ea02f8ff31e8",
   "metadata": {},
   "outputs": [],
   "source": [
    "file_dir = config[\"m2m_output_loc\"] + \"init_graph\\\\\"\n",
    "if not os.path.exists(file_dir):\n",
    "    os.makedirs(file_dir)\n",
    "pickle.dump(ctr, open(file_dir + \"ctr_agg.p\", \"wb\"))\n",
    "pickle.dump(ctr_disagg, open(file_dir + \"ctr_disagg.p\", \"wb\"))\n",
    "pickle.dump(agg_2_disagg_id, open(file_dir + \"agg_2_disagg_id.p\", \"wb\"))\n",
    "pickle.dump(disagg_2_agg_id, open(file_dir + \"disagg_2_agg_id.p\", \"wb\"))"
   ]
  },
  {
   "cell_type": "code",
   "execution_count": null,
   "id": "1bd0cae2-d3bd-4f48-bd66-1149394f9789",
   "metadata": {},
   "outputs": [],
   "source": []
  }
 ],
 "metadata": {
  "kernelspec": {
   "display_name": "Python 3",
   "language": "python",
   "name": "python3"
  },
  "language_info": {
   "codemirror_mode": {
    "name": "ipython",
    "version": 3
   },
   "file_extension": ".py",
   "mimetype": "text/x-python",
   "name": "python",
   "nbconvert_exporter": "python",
   "pygments_lexer": "ipython3",
   "version": "3.9.5"
  }
 },
 "nbformat": 4,
 "nbformat_minor": 5
}
