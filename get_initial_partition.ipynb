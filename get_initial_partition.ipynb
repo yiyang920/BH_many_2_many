{
 "cells": [
  {
   "cell_type": "code",
   "execution_count": null,
   "source": [
    "import pandas as pd\r\n",
    "import numpy as np\r\n",
    "import pickle\r\n",
    "import operator\r\n",
    "import networkx as nx\r\n",
    "import os\r\n",
    "import csv\r\n",
    "import yaml\r\n",
    "from st_network2 import Many2Many\r\n",
    "from trip_prediction import trip_prediction\r\n",
    "\r\n",
    "from graph_coarsening import graph_coarsening\r\n",
    "from utils import *"
   ],
   "outputs": [],
   "metadata": {}
  },
  {
   "cell_type": "code",
   "execution_count": 3,
   "source": [
    "with open(\"config_m2m_gc.yaml\", \"r+\") as fopen:\r\n",
    "    config = yaml.load(fopen, Loader=yaml.FullLoader)\r\n",
    "config[\"FIXED_ROUTE\"] = True"
   ],
   "outputs": [],
   "metadata": {}
  },
  {
   "cell_type": "code",
   "execution_count": 4,
   "source": [
    "Route_fr_disagg = load_FR_disagg(config)\r\n",
    "Route_fr_disagg = None\r\n",
    "# Load mode choice input data\r\n",
    "(\r\n",
    "    per_time,\r\n",
    "    per_dist,\r\n",
    "    per_emp,\r\n",
    "    mdot_dat,\r\n",
    "    dests_geo,\r\n",
    "    D,\r\n",
    ") = load_mc_input(config)\r\n",
    "\r\n",
    "# load ID converter between GEOID and zone_id\r\n",
    "id_converter = pickle.load(open(config[\"id_converter\"], \"rb\"))"
   ],
   "outputs": [],
   "metadata": {}
  },
  {
   "cell_type": "code",
   "execution_count": 5,
   "source": [
    "(\r\n",
    "    trips_dict_pk,\r\n",
    "    trips_dict_op,\r\n",
    "    transit_trips_dict_pk,\r\n",
    "    transit_trips_dict_op,\r\n",
    ") = trip_prediction(\r\n",
    "    id_converter, per_dist, per_emp, mdot_dat, dests_geo, D, per_time=per_time\r\n",
    ")"
   ],
   "outputs": [],
   "metadata": {}
  },
  {
   "cell_type": "code",
   "execution_count": 6,
   "source": [
    "(\r\n",
    "    N_n,\r\n",
    "    L_l,\r\n",
    "    C_l,\r\n",
    "    K_k,\r\n",
    "    w_out,\r\n",
    "    w_in,\r\n",
    "    w_f,\r\n",
    ") = get_link_cost(trips_dict_pk, Route_fr_disagg, config)\r\n",
    "(_, _, P_N, P_L, _) = graph_coarsening(N_n, L_l, C_l, K_k, config)"
   ],
   "outputs": [
    {
     "output_type": "stream",
     "name": "stdout",
     "text": [
      "Academic license - for non-commercial use only - expires 2021-06-19\n",
      "Using license file C:\\Users\\SQwan\\gurobi.lic\n",
      "Parameter TimeLimit unchanged\n",
      "   Value: inf  Min: 0.0  Max: inf  Default: inf\n",
      "Changed value of parameter MIPGap to 0.2\n",
      "   Prev: 0.0001  Min: 0.0  Max: inf  Default: 0.0001\n",
      "Gurobi Optimizer version 9.1.2 build v9.1.2rc0 (win64)\n",
      "Thread count: 8 physical cores, 8 logical processors, using up to 8 threads\n",
      "Optimize a model with 8784 rows, 5240 columns and 26160 nonzeros\n",
      "Model fingerprint: 0xe9f9c078\n",
      "Variable types: 0 continuous, 5240 integer (5240 binary)\n",
      "Coefficient statistics:\n",
      "  Matrix range     [1e+00, 2e+00]\n",
      "  Objective range  [1e+00, 2e+00]\n",
      "  Bounds range     [1e+00, 1e+00]\n",
      "  RHS range        [1e+00, 4e+00]\n",
      "Found heuristic solution: objective 88.0000000\n",
      "Presolve removed 1760 rows and 880 columns\n",
      "Presolve time: 0.06s\n",
      "Presolved: 7024 rows, 4360 columns, 22640 nonzeros\n",
      "Variable types: 0 continuous, 4360 integer (4360 binary)\n",
      "\n",
      "Root relaxation: objective 2.774014e+02, 5423 iterations, 0.03 seconds\n",
      "\n",
      "    Nodes    |    Current Node    |     Objective Bounds      |     Work\n",
      " Expl Unexpl |  Obj  Depth IntInf | Incumbent    BestBd   Gap | It/Node Time\n",
      "\n",
      "     0     0  277.40136    0  152   88.00000  277.40136   215%     -    0s\n",
      "H    0     0                     200.6402162  277.40136  38.3%     -    0s\n",
      "H    0     0                     202.6402162  277.40136  36.9%     -    0s\n",
      "H    0     0                     204.6402394  277.40136  35.6%     -    0s\n",
      "     0     0  277.40136    0  184  204.64024  277.40136  35.6%     -    0s\n",
      "     0     0  270.09366    0 1138  204.64024  270.09366  32.0%     -    0s\n",
      "     0     0  269.40136    0 1170  204.64024  269.40136  31.6%     -    1s\n",
      "     0     0  269.40136    0 1170  204.64024  269.40136  31.6%     -    1s\n",
      "     0     0  227.07231    0  869  204.64024  227.07231  11.0%     -    2s\n",
      "\n",
      "Cutting planes:\n",
      "  Gomory: 13\n",
      "  Mod-K: 9\n",
      "  RLT: 475\n",
      "\n",
      "Explored 1 nodes (24863 simplex iterations) in 2.97 seconds\n",
      "Thread count was 8 (of 8 available processors)\n",
      "\n",
      "Solution count 5: 204.64 202.64 200.64 ... 88\n",
      "\n",
      "Optimal solution found (tolerance 2.00e-01)\n",
      "Best objective 2.046402394141e+02, best bound 2.270723128140e+02, gap 10.9617%\n"
     ]
    }
   ],
   "metadata": {}
  },
  {
   "cell_type": "code",
   "execution_count": 7,
   "source": [
    "# Record current agg2disagg of those bus-visited zones\r\n",
    "bus_zone = set(stop[2] for _, route in Route_fr_disagg.items() for stop in route)\r\n",
    "# Update agg_2_disagg_id and disagg_2_agg_id\r\n",
    "agg_2_disagg_id = dict()\r\n",
    "\r\n",
    "for idx, c in enumerate(P_N.keys()):\r\n",
    "    agg_2_disagg_id[idx] = P_N[c]\r\n",
    "# P_N excludes the zones with bus service, need to add those excluded zones\r\n",
    "# into agg_2_disagg_id\r\n",
    "for idx, node in enumerate(bus_zone):\r\n",
    "    new_part_id = len(P_N) + idx\r\n",
    "    agg_2_disagg_id[new_part_id] = [node]\r\n",
    "\r\n",
    "\r\n",
    "disagg_2_agg_id = {\r\n",
    "    n: partition for partition, nodes in agg_2_disagg_id.items() for n in nodes\r\n",
    "}\r\n",
    "\r\n",
    "# Update config dictionary: number of partitions of aggregated network\r\n",
    "config[\"S\"] = len(agg_2_disagg_id)\r\n",
    "print(config[\"S\"])"
   ],
   "outputs": [
    {
     "output_type": "stream",
     "name": "stdout",
     "text": [
      "38\n"
     ]
    }
   ],
   "metadata": {}
  },
  {
   "cell_type": "code",
   "execution_count": 8,
   "source": [
    "# Load neighbor nodes information of disaggregated zones\r\n",
    "ctr_disagg = load_neighbor_disagg(config)\r\n",
    "# Update ctr, i.e. station neighbor info of aggregated network\r\n",
    "ctr = update_ctr_agg(ctr_disagg, disagg_2_agg_id)"
   ],
   "outputs": [],
   "metadata": {}
  },
  {
   "cell_type": "code",
   "execution_count": 16,
   "source": [
    "file_dir = config[\"m2m_output_loc\"] + \"init_graph\\\\\"\r\n",
    "if not os.path.exists(file_dir):\r\n",
    "    os.makedirs(file_dir)\r\n",
    "pickle.dump(ctr, open(file_dir + \"ctr_agg.p\", \"wb\"))\r\n",
    "pickle.dump(ctr_disagg, open(file_dir + \"ctr_disagg.p\", \"wb\"))\r\n",
    "pickle.dump(agg_2_disagg_id, open(file_dir + \"agg_2_disagg_id.p\", \"wb\"))\r\n",
    "pickle.dump(disagg_2_agg_id, open(file_dir + \"disagg_2_agg_id.p\", \"wb\"))"
   ],
   "outputs": [],
   "metadata": {}
  },
  {
   "cell_type": "code",
   "execution_count": null,
   "source": [],
   "outputs": [],
   "metadata": {}
  }
 ],
 "metadata": {
  "kernelspec": {
   "name": "python3",
   "display_name": "Python 3.9.7 64-bit ('base': conda)"
  },
  "language_info": {
   "codemirror_mode": {
    "name": "ipython",
    "version": 3
   },
   "file_extension": ".py",
   "mimetype": "text/x-python",
   "name": "python",
   "nbconvert_exporter": "python",
   "pygments_lexer": "ipython3",
   "version": "3.9.7"
  },
  "interpreter": {
   "hash": "cc5614969db343f118b1c4a322ce786bd4cde3069c8fb2d63635d04785eb7a6f"
  }
 },
 "nbformat": 4,
 "nbformat_minor": 5
}